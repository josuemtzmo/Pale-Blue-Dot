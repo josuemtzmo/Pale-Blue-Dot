{
 "cells": [
  {
   "cell_type": "code",
   "execution_count": 1,
   "id": "f5be2b5d",
   "metadata": {},
   "outputs": [
    {
     "ename": "LoadError",
     "evalue": "\u001b[91mArgumentError: Module Pkg not found in current path.\nRun `Pkg.add(\"Pkg\")` to install the Pkg package.\u001b[39m",
     "output_type": "error",
     "traceback": [
      "\u001b[91mArgumentError: Module Pkg not found in current path.\nRun `Pkg.add(\"Pkg\")` to install the Pkg package.\u001b[39m",
      "",
      "Stacktrace:",
      " [1] \u001b[1m_require\u001b[22m\u001b[22m\u001b[1m(\u001b[22m\u001b[22m::Symbol\u001b[1m)\u001b[22m\u001b[22m at \u001b[1m./loading.jl:435\u001b[22m\u001b[22m",
      " [2] \u001b[1mrequire\u001b[22m\u001b[22m\u001b[1m(\u001b[22m\u001b[22m::Symbol\u001b[1m)\u001b[22m\u001b[22m at \u001b[1m./loading.jl:405\u001b[22m\u001b[22m"
     ]
    }
   ],
   "source": [
    "using Pkg; \n",
    "Pkg.add(\"Psychro\")\n",
    "Pkg.add(\"NCDatasets\")"
   ]
  },
  {
   "cell_type": "code",
   "execution_count": 5,
   "id": "c8381aa7",
   "metadata": {},
   "outputs": [
    {
     "ename": "LoadError",
     "evalue": "\u001b[91msyntax: extra token \"https\" after end of expression\u001b[39m",
     "output_type": "error",
     "traceback": [
      "\u001b[91msyntax: extra token \"https\" after end of expression\u001b[39m",
      ""
     ]
    }
   ],
   "source": [
    "add https://github.com/termolivre/Psychro.jl/"
   ]
  },
  {
   "cell_type": "code",
   "execution_count": 6,
   "id": "b78d3c46",
   "metadata": {},
   "outputs": [
    {
     "ename": "LoadError",
     "evalue": "\u001b[91mArgumentError: Module Pkg not found in current path.\nRun `Pkg.add(\"Pkg\")` to install the Pkg package.\u001b[39m",
     "output_type": "error",
     "traceback": [
      "\u001b[91mArgumentError: Module Pkg not found in current path.\nRun `Pkg.add(\"Pkg\")` to install the Pkg package.\u001b[39m",
      "",
      "Stacktrace:",
      " [1] \u001b[1m_require\u001b[22m\u001b[22m\u001b[1m(\u001b[22m\u001b[22m::Symbol\u001b[1m)\u001b[22m\u001b[22m at \u001b[1m./loading.jl:435\u001b[22m\u001b[22m",
      " [2] \u001b[1mrequire\u001b[22m\u001b[22m\u001b[1m(\u001b[22m\u001b[22m::Symbol\u001b[1m)\u001b[22m\u001b[22m at \u001b[1m./loading.jl:405\u001b[22m\u001b[22m"
     ]
    }
   ],
   "source": [
    "using Pkg\n",
    "Pkg.add(\"DifferentialEquations\")"
   ]
  },
  {
   "cell_type": "code",
   "execution_count": null,
   "id": "f1c3ca55",
   "metadata": {},
   "outputs": [],
   "source": []
  }
 ],
 "metadata": {
  "kernelspec": {
   "display_name": "Julia 0.6.4 [conda env:jupyterhub] *",
   "language": "julia",
   "name": "conda-env-jupyterhub-julia-0.6"
  },
  "language_info": {
   "file_extension": ".jl",
   "mimetype": "application/julia",
   "name": "julia",
   "version": "0.6.4"
  }
 },
 "nbformat": 4,
 "nbformat_minor": 5
}
